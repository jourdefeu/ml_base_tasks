{
 "cells": [
  {
   "cell_type": "code",
   "execution_count": 1,
   "id": "25c33889",
   "metadata": {},
   "outputs": [
    {
     "name": "stdout",
     "output_type": "stream",
     "text": [
      "<class 'pandas.core.frame.DataFrame'>\n",
      "RangeIndex: 186 entries, 0 to 185\n",
      "Data columns (total 48 columns):\n",
      " #   Column                       Non-Null Count  Dtype  \n",
      "---  ------                       --------------  -----  \n",
      " 0   Age                          186 non-null    int64  \n",
      " 1   Growth                       186 non-null    int64  \n",
      " 2   Shoe size                    186 non-null    int64  \n",
      " 3   Course number                186 non-null    int64  \n",
      " 4   Year of birth                186 non-null    int64  \n",
      " 5   Friend number                186 non-null    int64  \n",
      " 6   Russian rating               186 non-null    int64  \n",
      " 7   Maths rating                 186 non-null    int64  \n",
      " 8   Physics rating               186 non-null    int64  \n",
      " 9   Computer science rating      186 non-null    int64  \n",
      " 10  Chemistry rating             186 non-null    int64  \n",
      " 11  Literature rating            186 non-null    int64  \n",
      " 12  History rating               186 non-null    int64  \n",
      " 13  Geography rating             186 non-null    int64  \n",
      " 14  Biology rating               186 non-null    int64  \n",
      " 15  Foreign language rating      186 non-null    int64  \n",
      " 16  Social science rating        186 non-null    int64  \n",
      " 17  Distance to home km          186 non-null    int64  \n",
      " 18  Minutes to first class       186 non-null    int64  \n",
      " 19  Children number              150 non-null    float64\n",
      " 20  Removed teeth                148 non-null    float64\n",
      " 21  Weight                       157 non-null    float64\n",
      " 22  Glasses                      184 non-null    object \n",
      " 23  Sex                          186 non-null    object \n",
      " 24  Problems in last semester    186 non-null    object \n",
      " 25  Coin                         186 non-null    object \n",
      " 26  Rock paper scissors          186 non-null    object \n",
      " 27  Animal                       186 non-null    object \n",
      " 28  Month of birthday            186 non-null    int64  \n",
      " 29  Your rating in university    186 non-null    object \n",
      " 30  Fastfood                     186 non-null    object \n",
      " 31  Height of 5000 mm            186 non-null    int64  \n",
      " 32  Width of 5000 mm             186 non-null    int64  \n",
      " 33  Putin age                    186 non-null    int64  \n",
      " 34  Army                         186 non-null    object \n",
      " 35  Hostel                       186 non-null    object \n",
      " 36  Hair length                  186 non-null    float64\n",
      " 37  Floor number                 186 non-null    int64  \n",
      " 38  Social network duration min  186 non-null    int64  \n",
      " 39  Chocolate                    186 non-null    object \n",
      " 40  City population              186 non-null    float64\n",
      " 41  Strange people               186 non-null    object \n",
      " 42  Your insitute                186 non-null    object \n",
      " 43  Brother-sister               186 non-null    object \n",
      " 44  Plane seat                   186 non-null    object \n",
      " 45  MIddle and index finger      186 non-null    int64  \n",
      " 46  Middle and ring finger       186 non-null    float64\n",
      " 47  Middle and little finger     186 non-null    float64\n",
      "dtypes: float64(7), int64(26), object(15)\n",
      "memory usage: 69.9+ KB\n"
     ]
    }
   ],
   "source": [
    "import pandas as pd\n",
    "import seaborn as sns\n",
    "\n",
    "df = pd.read_csv('students.csv')\n",
    "df.info()"
   ]
  },
  {
   "cell_type": "code",
   "execution_count": 2,
   "id": "63d45d22",
   "metadata": {},
   "outputs": [
    {
     "name": "stderr",
     "output_type": "stream",
     "text": [
      "C:\\Users\\valer\\anaconda3\\anac\\envs\\requirements\\lib\\site-packages\\seaborn\\_decorators.py:43: FutureWarning: Pass the following variable as a keyword arg: x. From version 0.12, the only valid positional argument will be `data`, and passing other arguments without an explicit keyword will result in an error or misinterpretation.\n",
      "  FutureWarning\n"
     ]
    },
    {
     "data": {
      "text/plain": [
       "<AxesSubplot:xlabel='Age'>"
      ]
     },
     "execution_count": 2,
     "metadata": {},
     "output_type": "execute_result"
    },
    {
     "data": {
      "image/png": "[encoded data removed]",
      "text/plain": [
       "<Figure size 640x480 with 1 Axes>"
      ]
     },
     "metadata": {},
     "output_type": "display_data"
    }
   ],
   "source": [
    "sns.boxplot(df['Age'])"
   ]
  },
  {
   "cell_type": "code",
   "execution_count": 3,
   "id": "6080aa19",
   "metadata": {},
   "outputs": [
    {
     "data": {
      "text/plain": [
       "(14.52494740231539, 113.53874686520054)"
      ]
     },
     "execution_count": 3,
     "metadata": {},
     "output_type": "execute_result"
    }
   ],
   "source": [
    "m=df['Weight'].mean()\n",
    "s=df['Weight'].std()\n",
    "m-3*s, m+3*s"
   ]
  },
  {
   "cell_type": "markdown",
   "id": "7eb938d0",
   "metadata": {},
   "source": [
    "25, 50, 75 - процентиль/квантиль"
   ]
  },
  {
   "cell_type": "code",
   "execution_count": 5,
   "id": "44981510",
   "metadata": {},
   "outputs": [
    {
     "data": {
      "text/plain": [
       "Age                                19.00\n",
       "Growth                            164.00\n",
       "Shoe size                          37.00\n",
       "Course number                       2.00\n",
       "Year of birth                    2000.00\n",
       "Friend number                      85.00\n",
       "Russian rating                     73.00\n",
       "Maths rating                       50.00\n",
       "Physics rating                      0.00\n",
       "Computer science rating             0.00\n",
       "Chemistry rating                    0.00\n",
       "Literature rating                   0.00\n",
       "History rating                      0.00\n",
       "Geography rating                    0.00\n",
       "Biology rating                      0.00\n",
       "Foreign language rating             0.00\n",
       "Social science rating               0.00\n",
       "Distance to home km                 0.00\n",
       "Minutes to first class             40.00\n",
       "Children number                     0.75\n",
       "Removed teeth                       0.00\n",
       "Weight                             53.00\n",
       "Month of birthday                   3.00\n",
       "Height of 5000 mm                  50.00\n",
       "Width of 5000 mm                  100.00\n",
       "Putin age                          67.00\n",
       "Hair length                        10.00\n",
       "Floor number                        3.00\n",
       "Social network duration min       120.00\n",
       "City population                700000.00\n",
       "MIddle and index finger             7.00\n",
       "Middle and ring finger              6.00\n",
       "Middle and little finger           20.00\n",
       "Name: 0.25, dtype: float64"
      ]
     },
     "execution_count": 5,
     "metadata": {},
     "output_type": "execute_result"
    }
   ],
   "source": [
    "df.quantile(0.25)"
   ]
  },
  {
   "cell_type": "code",
   "execution_count": 6,
   "id": "4167fda0",
   "metadata": {},
   "outputs": [],
   "source": [
    "a=df.Age.quantile(0.25)\n",
    "b=df.Age.quantile(0.75)"
   ]
  },
  {
   "cell_type": "code",
   "execution_count": 7,
   "id": "8ae503bc",
   "metadata": {},
   "outputs": [
    {
     "name": "stderr",
     "output_type": "stream",
     "text": [
      "C:\\Users\\valer\\anaconda3\\anac\\envs\\requirements\\lib\\site-packages\\seaborn\\_decorators.py:43: FutureWarning: Pass the following variable as a keyword arg: x. From version 0.12, the only valid positional argument will be `data`, and passing other arguments without an explicit keyword will result in an error or misinterpretation.\n",
      "  FutureWarning\n"
     ]
    },
    {
     "data": {
      "text/plain": [
       "<AxesSubplot:xlabel='Age'>"
      ]
     },
     "execution_count": 7,
     "metadata": {},
     "output_type": "execute_result"
    },
    {
     "data": {
      "image/png": "[encoded data removed]",
      "text/plain": [
       "<Figure size 640x480 with 1 Axes>"
      ]
     },
     "metadata": {},
     "output_type": "display_data"
    }
   ],
   "source": [
    "#расчет границ интервала по формулам a-1.5(b-a), b+1.5(b-a)\n",
    "\n",
    "df=df[(df.Age<(b+1.5*(b-a))) & (df.Age>(a-1.5*(b-a)))]\n",
    "sns.boxplot(df['Age'])"
   ]
  },
  {
   "cell_type": "code",
   "execution_count": 8,
   "id": "bf059c6a",
   "metadata": {},
   "outputs": [
    {
     "data": {
      "text/plain": [
       "count       142.000000\n",
       "mean        876.373239\n",
       "std        8421.773880\n",
       "min          42.000000\n",
       "25%          67.000000\n",
       "50%          69.000000\n",
       "75%          70.000000\n",
       "max      100000.000000\n",
       "Name: Putin age, dtype: float64"
      ]
     },
     "execution_count": 8,
     "metadata": {},
     "output_type": "execute_result"
    }
   ],
   "source": [
    "df['Putin age'].describe()"
   ]
  },
  {
   "cell_type": "code",
   "execution_count": 9,
   "id": "cae55e62",
   "metadata": {},
   "outputs": [
    {
     "data": {
      "text/plain": [
       "112"
      ]
     },
     "execution_count": 9,
     "metadata": {},
     "output_type": "execute_result"
    }
   ],
   "source": [
    "a=df['Putin age'].quantile(0.25)\n",
    "b=df['Putin age'].quantile(0.75)\n",
    "df=df[(df['Putin age']<(b+1.5*(b-a))) & (df['Putin age']>(a-1.5*(b-a)))]\n",
    "\n",
    "df['Putin age'].count()"
   ]
  },
  {
   "cell_type": "code",
   "execution_count": 10,
   "id": "312da166",
   "metadata": {},
   "outputs": [
    {
     "data": {
      "text/plain": [
       "69.0"
      ]
     },
     "execution_count": 10,
     "metadata": {},
     "output_type": "execute_result"
    }
   ],
   "source": [
    "df['Putin age'].median()"
   ]
  }
 ],
 "metadata": {
  "kernelspec": {
   "display_name": "Python 3 (ipykernel)",
   "language": "python",
   "name": "python3"
  },
  "language_info": {
   "codemirror_mode": {
    "name": "ipython",
    "version": 3
   },
   "file_extension": ".py",
   "mimetype": "text/x-python",
   "name": "python",
   "nbconvert_exporter": "python",
   "pygments_lexer": "ipython3",
   "version": "3.7.0"
  }
 },
 "nbformat": 4,
 "nbformat_minor": 5
}
