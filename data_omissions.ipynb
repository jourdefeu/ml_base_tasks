{
 "cells": [
  {
   "cell_type": "code",
   "execution_count": 1,
   "id": "79025967",
   "metadata": {},
   "outputs": [
    {
     "name": "stdout",
     "output_type": "stream",
     "text": [
      "<class 'pandas.core.frame.DataFrame'>\n",
      "RangeIndex: 186 entries, 0 to 185\n",
      "Data columns (total 48 columns):\n",
      " #   Column                       Non-Null Count  Dtype  \n",
      "---  ------                       --------------  -----  \n",
      " 0   Age                          186 non-null    int64  \n",
      " 1   Growth                       186 non-null    int64  \n",
      " 2   Shoe size                    186 non-null    int64  \n",
      " 3   Course number                186 non-null    int64  \n",
      " 4   Year of birth                186 non-null    int64  \n",
      " 5   Friend number                186 non-null    int64  \n",
      " 6   Russian rating               186 non-null    int64  \n",
      " 7   Maths rating                 186 non-null    int64  \n",
      " 8   Physics rating               186 non-null    int64  \n",
      " 9   Computer science rating      186 non-null    int64  \n",
      " 10  Chemistry rating             186 non-null    int64  \n",
      " 11  Literature rating            186 non-null    int64  \n",
      " 12  History rating               186 non-null    int64  \n",
      " 13  Geography rating             186 non-null    int64  \n",
      " 14  Biology rating               186 non-null    int64  \n",
      " 15  Foreign language rating      186 non-null    int64  \n",
      " 16  Social science rating        186 non-null    int64  \n",
      " 17  Distance to home km          186 non-null    int64  \n",
      " 18  Minutes to first class       186 non-null    int64  \n",
      " 19  Children number              150 non-null    float64\n",
      " 20  Removed teeth                148 non-null    float64\n",
      " 21  Weight                       157 non-null    float64\n",
      " 22  Glasses                      184 non-null    object \n",
      " 23  Sex                          186 non-null    object \n",
      " 24  Problems in last semester    186 non-null    object \n",
      " 25  Coin                         186 non-null    object \n",
      " 26  Rock paper scissors          186 non-null    object \n",
      " 27  Animal                       186 non-null    object \n",
      " 28  Month of birthday            186 non-null    int64  \n",
      " 29  Your rating in university    186 non-null    object \n",
      " 30  Fastfood                     186 non-null    object \n",
      " 31  Height of 5000 mm            186 non-null    int64  \n",
      " 32  Width of 5000 mm             186 non-null    int64  \n",
      " 33  Putin age                    186 non-null    int64  \n",
      " 34  Army                         186 non-null    object \n",
      " 35  Hostel                       186 non-null    object \n",
      " 36  Hair length                  186 non-null    float64\n",
      " 37  Floor number                 186 non-null    int64  \n",
      " 38  Social network duration min  186 non-null    int64  \n",
      " 39  Chocolate                    186 non-null    object \n",
      " 40  City population              186 non-null    float64\n",
      " 41  Strange people               186 non-null    object \n",
      " 42  Your insitute                186 non-null    object \n",
      " 43  Brother-sister               186 non-null    object \n",
      " 44  Plane seat                   186 non-null    object \n",
      " 45  MIddle and index finger      186 non-null    int64  \n",
      " 46  Middle and ring finger       186 non-null    float64\n",
      " 47  Middle and little finger     186 non-null    float64\n",
      "dtypes: float64(7), int64(26), object(15)\n",
      "memory usage: 69.9+ KB\n"
     ]
    }
   ],
   "source": [
    "import pandas as pd\n",
    "\n",
    "df = pd.read_csv('students.csv')\n",
    "df.info()"
   ]
  },
  {
   "cell_type": "code",
   "execution_count": 2,
   "id": "d33d8738",
   "metadata": {},
   "outputs": [
    {
     "name": "stdout",
     "output_type": "stream",
     "text": [
      "<class 'pandas.core.frame.DataFrame'>\n",
      "Int64Index: 118 entries, 0 to 185\n",
      "Data columns (total 48 columns):\n",
      " #   Column                       Non-Null Count  Dtype  \n",
      "---  ------                       --------------  -----  \n",
      " 0   Age                          118 non-null    int64  \n",
      " 1   Growth                       118 non-null    int64  \n",
      " 2   Shoe size                    118 non-null    int64  \n",
      " 3   Course number                118 non-null    int64  \n",
      " 4   Year of birth                118 non-null    int64  \n",
      " 5   Friend number                118 non-null    int64  \n",
      " 6   Russian rating               118 non-null    int64  \n",
      " 7   Maths rating                 118 non-null    int64  \n",
      " 8   Physics rating               118 non-null    int64  \n",
      " 9   Computer science rating      118 non-null    int64  \n",
      " 10  Chemistry rating             118 non-null    int64  \n",
      " 11  Literature rating            118 non-null    int64  \n",
      " 12  History rating               118 non-null    int64  \n",
      " 13  Geography rating             118 non-null    int64  \n",
      " 14  Biology rating               118 non-null    int64  \n",
      " 15  Foreign language rating      118 non-null    int64  \n",
      " 16  Social science rating        118 non-null    int64  \n",
      " 17  Distance to home km          118 non-null    int64  \n",
      " 18  Minutes to first class       118 non-null    int64  \n",
      " 19  Children number              118 non-null    float64\n",
      " 20  Removed teeth                118 non-null    float64\n",
      " 21  Weight                       118 non-null    float64\n",
      " 22  Glasses                      118 non-null    object \n",
      " 23  Sex                          118 non-null    object \n",
      " 24  Problems in last semester    118 non-null    object \n",
      " 25  Coin                         118 non-null    object \n",
      " 26  Rock paper scissors          118 non-null    object \n",
      " 27  Animal                       118 non-null    object \n",
      " 28  Month of birthday            118 non-null    int64  \n",
      " 29  Your rating in university    118 non-null    object \n",
      " 30  Fastfood                     118 non-null    object \n",
      " 31  Height of 5000 mm            118 non-null    int64  \n",
      " 32  Width of 5000 mm             118 non-null    int64  \n",
      " 33  Putin age                    118 non-null    int64  \n",
      " 34  Army                         118 non-null    object \n",
      " 35  Hostel                       118 non-null    object \n",
      " 36  Hair length                  118 non-null    float64\n",
      " 37  Floor number                 118 non-null    int64  \n",
      " 38  Social network duration min  118 non-null    int64  \n",
      " 39  Chocolate                    118 non-null    object \n",
      " 40  City population              118 non-null    float64\n",
      " 41  Strange people               118 non-null    object \n",
      " 42  Your insitute                118 non-null    object \n",
      " 43  Brother-sister               118 non-null    object \n",
      " 44  Plane seat                   118 non-null    object \n",
      " 45  MIddle and index finger      118 non-null    int64  \n",
      " 46  Middle and ring finger       118 non-null    float64\n",
      " 47  Middle and little finger     118 non-null    float64\n",
      "dtypes: float64(7), int64(26), object(15)\n",
      "memory usage: 45.2+ KB\n"
     ]
    }
   ],
   "source": [
    "df1=df.dropna()\n",
    "df1.info()"
   ]
  },
  {
   "cell_type": "code",
   "execution_count": 3,
   "id": "00c124ec",
   "metadata": {},
   "outputs": [
    {
     "name": "stdout",
     "output_type": "stream",
     "text": [
      "<class 'pandas.core.frame.DataFrame'>\n",
      "RangeIndex: 186 entries, 0 to 185\n",
      "Data columns (total 48 columns):\n",
      " #   Column                       Non-Null Count  Dtype  \n",
      "---  ------                       --------------  -----  \n",
      " 0   Age                          186 non-null    int64  \n",
      " 1   Growth                       186 non-null    int64  \n",
      " 2   Shoe size                    186 non-null    int64  \n",
      " 3   Course number                186 non-null    int64  \n",
      " 4   Year of birth                186 non-null    int64  \n",
      " 5   Friend number                186 non-null    int64  \n",
      " 6   Russian rating               186 non-null    int64  \n",
      " 7   Maths rating                 186 non-null    int64  \n",
      " 8   Physics rating               186 non-null    int64  \n",
      " 9   Computer science rating      186 non-null    int64  \n",
      " 10  Chemistry rating             186 non-null    int64  \n",
      " 11  Literature rating            186 non-null    int64  \n",
      " 12  History rating               186 non-null    int64  \n",
      " 13  Geography rating             186 non-null    int64  \n",
      " 14  Biology rating               186 non-null    int64  \n",
      " 15  Foreign language rating      186 non-null    int64  \n",
      " 16  Social science rating        186 non-null    int64  \n",
      " 17  Distance to home km          186 non-null    int64  \n",
      " 18  Minutes to first class       186 non-null    int64  \n",
      " 19  Children number              186 non-null    float64\n",
      " 20  Removed teeth                186 non-null    float64\n",
      " 21  Weight                       186 non-null    float64\n",
      " 22  Glasses                      186 non-null    object \n",
      " 23  Sex                          186 non-null    object \n",
      " 24  Problems in last semester    186 non-null    object \n",
      " 25  Coin                         186 non-null    object \n",
      " 26  Rock paper scissors          186 non-null    object \n",
      " 27  Animal                       186 non-null    object \n",
      " 28  Month of birthday            186 non-null    int64  \n",
      " 29  Your rating in university    186 non-null    object \n",
      " 30  Fastfood                     186 non-null    object \n",
      " 31  Height of 5000 mm            186 non-null    int64  \n",
      " 32  Width of 5000 mm             186 non-null    int64  \n",
      " 33  Putin age                    186 non-null    int64  \n",
      " 34  Army                         186 non-null    object \n",
      " 35  Hostel                       186 non-null    object \n",
      " 36  Hair length                  186 non-null    float64\n",
      " 37  Floor number                 186 non-null    int64  \n",
      " 38  Social network duration min  186 non-null    int64  \n",
      " 39  Chocolate                    186 non-null    object \n",
      " 40  City population              186 non-null    float64\n",
      " 41  Strange people               186 non-null    object \n",
      " 42  Your insitute                186 non-null    object \n",
      " 43  Brother-sister               186 non-null    object \n",
      " 44  Plane seat                   186 non-null    object \n",
      " 45  MIddle and index finger      186 non-null    int64  \n",
      " 46  Middle and ring finger       186 non-null    float64\n",
      " 47  Middle and little finger     186 non-null    float64\n",
      "dtypes: float64(7), int64(26), object(15)\n",
      "memory usage: 69.9+ KB\n"
     ]
    }
   ],
   "source": [
    "df2=df.fillna(0)\n",
    "df2.info()"
   ]
  },
  {
   "cell_type": "markdown",
   "id": "d0ab85d2",
   "metadata": {},
   "source": [
    "df['Children number']=df['Children number'].fillna(0)\n",
    "\n",
    "df['Removed teeth']=df['Removed teeth'].fillna(df['Removed teeth'].median())\n",
    "\n",
    "df['Weight']=df['Weight'].fillna(df['Weight'].mean())\n",
    "\n",
    "df.info()"
   ]
  },
  {
   "cell_type": "code",
   "execution_count": 5,
   "id": "2761e10a",
   "metadata": {},
   "outputs": [
    {
     "data": {
      "text/plain": [
       "женский    120\n",
       "мужской     66\n",
       "Name: Sex, dtype: int64"
      ]
     },
     "execution_count": 5,
     "metadata": {},
     "output_type": "execute_result"
    }
   ],
   "source": [
    "dfnn = pd.read_csv('students.csv')\n",
    "dfnn.Sex.value_counts()"
   ]
  },
  {
   "cell_type": "code",
   "execution_count": 6,
   "id": "a66bd765",
   "metadata": {},
   "outputs": [],
   "source": [
    "females=dfnn[dfnn['Sex']=='женский']\n",
    "males=dfnn[dfnn['Sex']=='мужской']"
   ]
  },
  {
   "cell_type": "code",
   "execution_count": 7,
   "id": "e69fe03b",
   "metadata": {},
   "outputs": [
    {
     "name": "stderr",
     "output_type": "stream",
     "text": [
      "C:\\Users\\valer\\anaconda3\\anac\\envs\\requirements\\lib\\site-packages\\ipykernel_launcher.py:1: SettingWithCopyWarning: \n",
      "A value is trying to be set on a copy of a slice from a DataFrame.\n",
      "Try using .loc[row_indexer,col_indexer] = value instead\n",
      "\n",
      "See the caveats in the documentation: https://pandas.pydata.org/pandas-docs/stable/user_guide/indexing.html#returning-a-view-versus-a-copy\n",
      "  \"\"\"Entry point for launching an IPython kernel.\n",
      "C:\\Users\\valer\\anaconda3\\anac\\envs\\requirements\\lib\\site-packages\\ipykernel_launcher.py:2: SettingWithCopyWarning: \n",
      "A value is trying to be set on a copy of a slice from a DataFrame.\n",
      "Try using .loc[row_indexer,col_indexer] = value instead\n",
      "\n",
      "See the caveats in the documentation: https://pandas.pydata.org/pandas-docs/stable/user_guide/indexing.html#returning-a-view-versus-a-copy\n",
      "  \n"
     ]
    }
   ],
   "source": [
    "females['Weight']=females['Weight'].fillna(females['Weight'].mean())\n",
    "males['Weight']=males['Weight'].fillna(males['Weight'].mean())"
   ]
  },
  {
   "cell_type": "code",
   "execution_count": 8,
   "id": "1f51dd39",
   "metadata": {},
   "outputs": [],
   "source": [
    "df_new=males.append(females)"
   ]
  },
  {
   "cell_type": "code",
   "execution_count": 9,
   "id": "ee8dfaa0",
   "metadata": {},
   "outputs": [
    {
     "data": {
      "text/plain": [
       "63.53201161071252"
      ]
     },
     "execution_count": 9,
     "metadata": {},
     "output_type": "execute_result"
    }
   ],
   "source": [
    "df_new.Weight.mean()"
   ]
  },
  {
   "cell_type": "code",
   "execution_count": 10,
   "id": "8482e0f4",
   "metadata": {},
   "outputs": [
    {
     "data": {
      "text/plain": [
       "есть брат                 62\n",
       "есть сестра               55\n",
       "нет ни брата ни сестры    39\n",
       "есть и брат и сестра      30\n",
       "Name: Brother-sister, dtype: int64"
      ]
     },
     "execution_count": 10,
     "metadata": {},
     "output_type": "execute_result"
    }
   ],
   "source": [
    "dfnn['Brother-sister'].value_counts()"
   ]
  },
  {
   "cell_type": "code",
   "execution_count": 11,
   "id": "2d9393dd",
   "metadata": {},
   "outputs": [],
   "source": [
    "singles=dfnn[dfnn['Brother-sister']=='нет ни брата ни сестры']\n",
    "sublings=dfnn[dfnn['Brother-sister']!='нет ни брата ни сестры']"
   ]
  },
  {
   "cell_type": "code",
   "execution_count": 12,
   "id": "ea655376",
   "metadata": {},
   "outputs": [
    {
     "name": "stderr",
     "output_type": "stream",
     "text": [
      "C:\\Users\\valer\\anaconda3\\anac\\envs\\requirements\\lib\\site-packages\\ipykernel_launcher.py:1: SettingWithCopyWarning: \n",
      "A value is trying to be set on a copy of a slice from a DataFrame.\n",
      "Try using .loc[row_indexer,col_indexer] = value instead\n",
      "\n",
      "See the caveats in the documentation: https://pandas.pydata.org/pandas-docs/stable/user_guide/indexing.html#returning-a-view-versus-a-copy\n",
      "  \"\"\"Entry point for launching an IPython kernel.\n",
      "C:\\Users\\valer\\anaconda3\\anac\\envs\\requirements\\lib\\site-packages\\ipykernel_launcher.py:2: SettingWithCopyWarning: \n",
      "A value is trying to be set on a copy of a slice from a DataFrame.\n",
      "Try using .loc[row_indexer,col_indexer] = value instead\n",
      "\n",
      "See the caveats in the documentation: https://pandas.pydata.org/pandas-docs/stable/user_guide/indexing.html#returning-a-view-versus-a-copy\n",
      "  \n"
     ]
    }
   ],
   "source": [
    "singles['Children number']=singles['Children number'].fillna(singles['Children number'].median())\n",
    "sublings['Children number']=sublings['Children number'].fillna(sublings['Children number'].median())"
   ]
  },
  {
   "cell_type": "code",
   "execution_count": 13,
   "id": "2415ca16",
   "metadata": {},
   "outputs": [],
   "source": [
    "df_new=sublings.append(singles)"
   ]
  },
  {
   "cell_type": "code",
   "execution_count": 14,
   "id": "1e0b8618",
   "metadata": {},
   "outputs": [
    {
     "data": {
      "text/plain": [
       "2.0"
      ]
     },
     "execution_count": 14,
     "metadata": {},
     "output_type": "execute_result"
    }
   ],
   "source": [
    "df_new['Children number'].median()"
   ]
  }
 ],
 "metadata": {
  "kernelspec": {
   "display_name": "Python 3 (ipykernel)",
   "language": "python",
   "name": "python3"
  },
  "language_info": {
   "codemirror_mode": {
    "name": "ipython",
    "version": 3
   },
   "file_extension": ".py",
   "mimetype": "text/x-python",
   "name": "python",
   "nbconvert_exporter": "python",
   "pygments_lexer": "ipython3",
   "version": "3.7.0"
  }
 },
 "nbformat": 4,
 "nbformat_minor": 5
}
